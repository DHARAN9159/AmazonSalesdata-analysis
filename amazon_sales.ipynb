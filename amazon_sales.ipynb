{
  "nbformat": 4,
  "nbformat_minor": 0,
  "metadata": {
    "colab": {
      "provenance": []
    },
    "kernelspec": {
      "name": "python3",
      "display_name": "Python 3"
    },
    "language_info": {
      "name": "python"
    }
  },
  "cells": [
    {
      "cell_type": "code",
      "source": [
        "import pandas as pd\n",
        "import numpy as np\n",
        "import matplotlib.pyplot as plt\n",
        "import seaborn as sns\n"
      ],
      "metadata": {
        "id": "KCsH5jb37XsA"
      },
      "execution_count": 1,
      "outputs": []
    },
    {
      "cell_type": "code",
      "source": [
        "file_path=\"Amazon Sale Report.csv\"\n",
        "data = pd.read_csv(file_path, encoding='ISO-8859-1')"
      ],
      "metadata": {
        "id": "sMMt8opJ7crx"
      },
      "execution_count": 2,
      "outputs": []
    },
    {
      "cell_type": "code",
      "source": [
        "print(data.columns)"
      ],
      "metadata": {
        "colab": {
          "base_uri": "https://localhost:8080/"
        },
        "id": "RlltFtd37fdx",
        "outputId": "e9aae623-89c1-4d87-a1c0-31deb63c1246"
      },
      "execution_count": 3,
      "outputs": [
        {
          "output_type": "stream",
          "name": "stdout",
          "text": [
            "Index(['index', 'Order ID', 'Date', 'Status', 'Fulfilment', 'Sales Channel',\n",
            "       'ship-service-level', 'Category', 'Size', 'Courier Status', 'Qty',\n",
            "       'currency', 'Amount', 'ship-city', 'ship-state', 'ship-postal-code',\n",
            "       'ship-country', 'B2B', 'fulfilled-by', 'New', 'PendingS'],\n",
            "      dtype='object')\n"
          ]
        }
      ]
    },
    {
      "cell_type": "code",
      "source": [
        "print(data.isnull().sum())"
      ],
      "metadata": {
        "colab": {
          "base_uri": "https://localhost:8080/"
        },
        "id": "BIIjIL_57l0B",
        "outputId": "9106e22a-fbfd-49c8-8e31-ebaaa7374ec8"
      },
      "execution_count": 4,
      "outputs": [
        {
          "output_type": "stream",
          "name": "stdout",
          "text": [
            "index                      0\n",
            "Order ID                   0\n",
            "Date                       0\n",
            "Status                     0\n",
            "Fulfilment                 0\n",
            "Sales Channel              0\n",
            "ship-service-level         0\n",
            "Category                   0\n",
            "Size                       0\n",
            "Courier Status             0\n",
            "Qty                        0\n",
            "currency                7800\n",
            "Amount                  7800\n",
            "ship-city                 35\n",
            "ship-state                35\n",
            "ship-postal-code          35\n",
            "ship-country              35\n",
            "B2B                        0\n",
            "fulfilled-by           89713\n",
            "New                   128976\n",
            "PendingS              128976\n",
            "dtype: int64\n"
          ]
        }
      ]
    },
    {
      "cell_type": "code",
      "source": [
        "data.drop(['New',\"PendingS\"], axis=1, inplace=True)"
      ],
      "metadata": {
        "id": "Zlw0xTxe86i6"
      },
      "execution_count": 10,
      "outputs": []
    },
    {
      "cell_type": "code",
      "source": [
        "status_mapping = {\n",
        "    'Cancelled': 'Cancelled',\n",
        "    'Shipped - Delivered to Buyer': 'Delivered',\n",
        "    'Pending - Waiting for Pick Up':'Awaiting Pickup',\n",
        "    'Pending': 'Awaiting Shipment',\n",
        "    'Shipped': 'Shipped',\n",
        "    'Shipped - Picked Up': 'Picked up',\n",
        "    'Shipped - Damaged': 'Damaged in Transit',\n",
        "    'Shipped - Lost in Transit': 'Lost in Transit',\n",
        "    'Shipped - Returned to Seller': 'Shipment Returned',\n",
        "    'Shipped - Returning to Seller': 'Returning to Seller',\n",
        "    'Shipped - Rejected by Buyer': 'Rejected by Buyer',\n",
        "    'Shipping':'Shipped',\n",
        "    'Shipped - Out for Delivery':'Out for delivery'\n",
        "\n",
        "}\n",
        "\n",
        "# Update the 'Courier Status' based on the mapping\n",
        "data['Courier Status'] = data['Status'].map(status_mapping)\n",
        "\n",
        "# rows for each status category\n",
        "for status in status_mapping.keys():\n",
        "    filtered_data = data[data['Status'] == status]\n",
        "    if not filtered_data.empty:  # Check if there's any data to display\n",
        "        print(filtered_data[['Order ID', 'Status', 'Courier Status']].head())\n",
        "        print(\"-----\")"
      ],
      "metadata": {
        "colab": {
          "base_uri": "https://localhost:8080/"
        },
        "id": "vCCSgzCu7r8T",
        "outputId": "8080bf6d-cfbd-490c-eb09-f16ba4fff936"
      },
      "execution_count": 11,
      "outputs": [
        {
          "output_type": "stream",
          "name": "stdout",
          "text": [
            "               Order ID     Status Courier Status\n",
            "0   405-8078784-5731545  Cancelled      Cancelled\n",
            "3   403-9615377-8133951  Cancelled      Cancelled\n",
            "8   407-5443024-5233168  Cancelled      Cancelled\n",
            "23  404-6019946-2909948  Cancelled      Cancelled\n",
            "29  404-5933402-8801952  Cancelled      Cancelled\n",
            "-----\n",
            "               Order ID                        Status Courier Status\n",
            "1   171-9198151-1101146  Shipped - Delivered to Buyer      Delivered\n",
            "7   406-7807733-3785945  Shipped - Delivered to Buyer      Delivered\n",
            "12  405-5513694-8146768  Shipped - Delivered to Buyer      Delivered\n",
            "14  408-1298370-1920302  Shipped - Delivered to Buyer      Delivered\n",
            "15  403-4965581-9520319  Shipped - Delivered to Buyer      Delivered\n",
            "-----\n",
            "                  Order ID                         Status   Courier Status\n",
            "91975  404-6911461-8829111  Pending - Waiting for Pick Up  Awaiting Pickup\n",
            "91978  171-3656048-9425164  Pending - Waiting for Pick Up  Awaiting Pickup\n",
            "91981  403-7879928-4775516  Pending - Waiting for Pick Up  Awaiting Pickup\n",
            "91982  405-5271764-6354710  Pending - Waiting for Pick Up  Awaiting Pickup\n",
            "91987  405-2491028-7917956  Pending - Waiting for Pick Up  Awaiting Pickup\n",
            "-----\n",
            "                  Order ID   Status     Courier Status\n",
            "44044  405-0700572-9554710  Pending  Awaiting Shipment\n",
            "56069  402-6584761-5651552  Pending  Awaiting Shipment\n",
            "58986  403-7066611-8150715  Pending  Awaiting Shipment\n",
            "58987  403-7066611-8150715  Pending  Awaiting Shipment\n",
            "58988  403-7066611-8150715  Pending  Awaiting Shipment\n",
            "-----\n",
            "              Order ID   Status Courier Status\n",
            "2  404-0687676-7273146  Shipped        Shipped\n",
            "4  407-1069790-7240320  Shipped        Shipped\n",
            "5  404-1490984-4578765  Shipped        Shipped\n",
            "6  408-5748499-6859555  Shipped        Shipped\n",
            "9  402-4393761-0311520  Shipped        Shipped\n",
            "-----\n",
            "                  Order ID               Status Courier Status\n",
            "29966  403-3223608-0878725  Shipped - Picked Up      Picked up\n",
            "39792  408-5796550-6055535  Shipped - Picked Up      Picked up\n",
            "39793  408-5796550-6055535  Shipped - Picked Up      Picked up\n",
            "39794  408-5796550-6055535  Shipped - Picked Up      Picked up\n",
            "62997  405-6134397-3013134  Shipped - Picked Up      Picked up\n",
            "-----\n",
            "                   Order ID             Status      Courier Status\n",
            "102677  407-6693726-5617108  Shipped - Damaged  Damaged in Transit\n",
            "-----\n",
            "                  Order ID                     Status   Courier Status\n",
            "4018   408-3647481-1358717  Shipped - Lost in Transit  Lost in Transit\n",
            "4024   408-6812579-8773938  Shipped - Lost in Transit  Lost in Transit\n",
            "52734  402-3092086-7905940  Shipped - Lost in Transit  Lost in Transit\n",
            "68543  171-8470430-8735521  Shipped - Lost in Transit  Lost in Transit\n",
            "68544  171-8470430-8735521  Shipped - Lost in Transit  Lost in Transit\n",
            "-----\n",
            "                Order ID                        Status     Courier Status\n",
            "245  403-5977671-8855508  Shipped - Returned to Seller  Shipment Returned\n",
            "375  408-5020509-5674715  Shipped - Returned to Seller  Shipment Returned\n",
            "467  408-0266080-9401113  Shipped - Returned to Seller  Shipment Returned\n",
            "732  408-0902233-8069950  Shipped - Returned to Seller  Shipment Returned\n",
            "834  406-8536478-4581952  Shipped - Returned to Seller  Shipment Returned\n",
            "-----\n",
            "                  Order ID                         Status       Courier Status\n",
            "16634  406-2528038-8442757  Shipped - Returning to Seller  Returning to Seller\n",
            "33353  406-9302740-6397127  Shipped - Returning to Seller  Returning to Seller\n",
            "49187  408-0131862-2469171  Shipped - Returning to Seller  Returning to Seller\n",
            "51342  405-0091036-1962761  Shipped - Returning to Seller  Returning to Seller\n",
            "57216  171-2621701-3445110  Shipped - Returning to Seller  Returning to Seller\n",
            "-----\n",
            "                  Order ID                       Status     Courier Status\n",
            "434    407-7607527-1189964  Shipped - Rejected by Buyer  Rejected by Buyer\n",
            "4547   402-7273102-2737104  Shipped - Rejected by Buyer  Rejected by Buyer\n",
            "30817  408-4805720-2828314  Shipped - Rejected by Buyer  Rejected by Buyer\n",
            "31085  402-2733877-9862735  Shipped - Rejected by Buyer  Rejected by Buyer\n",
            "37099  405-6274687-2899536  Shipped - Rejected by Buyer  Rejected by Buyer\n",
            "-----\n",
            "                   Order ID    Status Courier Status\n",
            "107950  S02-9599483-2736812  Shipping        Shipped\n",
            "107952  S02-9218933-0457140  Shipping        Shipped\n",
            "107954  S02-3677494-1676964  Shipping        Shipped\n",
            "107955  S02-4565621-0275607  Shipping        Shipped\n",
            "107956  S02-8021992-2629124  Shipping        Shipped\n",
            "-----\n",
            "                  Order ID                      Status    Courier Status\n",
            "15632  406-6849237-1026769  Shipped - Out for Delivery  Out for delivery\n",
            "69241  405-9887214-3578748  Shipped - Out for Delivery  Out for delivery\n",
            "95521  405-5743429-6628355  Shipped - Out for Delivery  Out for delivery\n",
            "96756  405-1365097-0132364  Shipped - Out for Delivery  Out for delivery\n",
            "96912  408-3653655-5699510  Shipped - Out for Delivery  Out for delivery\n",
            "-----\n"
          ]
        }
      ]
    },
    {
      "cell_type": "code",
      "source": [
        "data.loc[data['Courier Status']=='Cancelled','fulfilled-by']='Cancelled'\n",
        "print(data[['Order ID', 'Status', 'fulfilled-by']])\n",
        "\n",
        "data.loc[data['Courier Status']=='Awaiting Shipment','fulfilled-by']='Amazon'\n",
        "print(data[['Order ID', 'Status', 'fulfilled-by']])\n",
        "\n",
        "data.loc[(data['Status'] == 'Shipped') & (data['Courier Status'] == 'Shipped') & (data['Fulfilment'] == 'Amazon'), 'fulfilled-by'] = 'Amazon'\n",
        "print(data[['Order ID', 'Status', 'Courier Status', 'Fulfilment', 'fulfilled-by']])\n",
        "\n",
        "\n",
        "data.loc[(data['Status'] == 'Shipped - Damaged') & (data['Courier Status'] == 'Damaged in Transit') & (data['Fulfilment'] == 'Merchant'), 'fulfilled-by'] = 'Merchant'\n",
        "\n",
        "\n",
        "print(data[['Order ID', 'Status', 'Courier Status', 'Fulfilment', 'fulfilled-by']])\n",
        "\n",
        "\n",
        "data.loc[(data['Status'] == 'Shipped - Lost in Transit') & (data['Courier Status'] == 'Lost in Transit') & (data['Fulfilment'] == 'Merchant'), 'fulfilled-by'] = 'Merchant'\n",
        "\n",
        "\n",
        "print(data[['Order ID', 'Status', 'Courier Status', 'Fulfilment', 'fulfilled-by']])\n",
        "\n",
        "\n",
        "\n",
        "data.loc[(data['Status'] == 'Shipped - Picked Up') &\n",
        "         (data['Courier Status'] == 'Picked Up') &\n",
        "         (data['Fulfilment'] == 'Amazon'), 'fulfilled-by'] = 'Amazon'\n",
        "\n",
        "# Fulfilled by Merchant\n",
        "data.loc[(data['Status'] == 'Shipped - Picked Up') &\n",
        "         (data['Courier Status'] == 'Picked Up') &\n",
        "         (data['Fulfilment'] == 'Merchant'), 'fulfilled-by'] = 'Merchant'\n",
        "\n",
        "\n",
        "print(data[['Order ID', 'Status', 'Courier Status', 'Fulfilment', 'fulfilled-by']])\n",
        "\n",
        "\n",
        "# Fulfilled by Amazon\n",
        "data.loc[(data['Status'] == 'Shipped - Out for Delivery') &\n",
        "         (data['Courier Status'] == 'Shipped') &\n",
        "         (data['Fulfilment'] == 'Amazon'), 'fulfilled-by'] = 'Amazon'\n",
        "\n",
        "# Fulfilled by Merchant\n",
        "data.loc[(data['Status'] == 'Shipped - Out for Delivery') &\n",
        "         (data['Courier Status'] == 'Shipped') &\n",
        "         (data['Fulfilment'] == 'Merchant'), 'fulfilled-by'] = 'Merchant'\n",
        "\n",
        "\n",
        "print(data[['Order ID', 'Status', 'Courier Status', 'Fulfilment', 'fulfilled-by']])\n",
        "\n",
        "# Fulfilled by Amazon\n",
        "data.loc[(data['Status'] == 'Shipped - Delivered to Buyer') &\n",
        "         (data['Courier Status'] == 'Delivered') &\n",
        "         (data['Fulfilment'] == 'Amazon'), 'fulfilled-by'] = 'Amazon'\n",
        "\n",
        "# Fulfilled by Merchant\n",
        "data.loc[(data['Status'] == 'Shipped - Delivered to Buyer') &\n",
        "         (data['Courier Status'] == 'Delivered') &\n",
        "         (data['Fulfilment'] == 'Merchant'), 'fulfilled-by'] = 'Merchant'\n",
        "\n",
        "\n",
        "print(data[['Order ID', 'Status', 'Courier Status', 'Fulfilment', 'fulfilled-by']])\n",
        "\n",
        "\n",
        "# Fulfilled by Amazon\n",
        "data.loc[(data['Status'] == 'Shipped - Returned to Seller') &\n",
        "         (data['Courier Status'] == 'Shipment Returned') &\n",
        "         (data['Fulfilment'] == 'Amazon'), 'fulfilled-by'] = 'Amazon'\n",
        "\n",
        "# Fulfilled by Merchant\n",
        "data.loc[(data['Status'] == 'Shipped - Returned to Seller') &\n",
        "         (data['Courier Status'] == 'Shipment Returned') &\n",
        "         (data['Fulfilment'] == 'Merchant'), 'fulfilled-by'] = 'Merchant'\n",
        "\n",
        "\n",
        "print(data[['Order ID', 'Status', 'Courier Status', 'Fulfilment', 'fulfilled-by']])\n",
        "\n",
        "\n",
        "\n",
        "# Fulfilled by Amazon\n",
        "data.loc[(data['Status'] == 'Shipped - Returning to Seller') &\n",
        "         (data['Courier Status'] == 'Returning to Seller') &\n",
        "         (data['Fulfilment'] == 'Amazon'), 'fulfilled-by'] = 'Amazon'\n",
        "\n",
        "# Fulfilled by Merchant\n",
        "data.loc[(data['Status'] == 'Shipp - Returning to Seller') &\n",
        "         (data['Courier Status'] == 'Returning to Seller') &\n",
        "         (data['Fulfilment'] == 'Merchant'), 'fulfilled-by'] = 'Merchant'\n",
        "\n",
        "\n",
        "print(data[['Order ID', 'Status', 'Courier Status', 'Fulfilment', 'fulfilled-by']])\n",
        "\n",
        "data.loc[(data['Status'] == 'shipping')& (data['Courier Status'] == 'shipped') & (data['Fulfilment'] == 'Amazon'), 'fulfilled-by'] = 'Amazon'\n",
        "\n",
        "# Fulfilled by Merchant\n",
        "data.loc[(data['Status'] == 'shipping') & (data['Courier Status'] == 'shipped') & (data['Fulfilment'] == 'Merchant'), 'fulfilled-by'] = 'Merchant'\n",
        "\n",
        "\n",
        "print(data[['Order ID', 'Status', 'Courier Status', 'Fulfilment', 'fulfilled-by']])\n",
        "\n",
        "data.loc[(data['Status'] == 'Shipping') & (data['Courier Status'] == 'Unshipped'), 'Courier Status'] = 'Shipped'\n",
        "\n",
        "# Set fulfilled-by based on Fulfilment type\n",
        "# Fulfilled by Amazon\n",
        "data.loc[(data['Status'] == 'Shipping') & (data['Fulfilment'] == 'Amazon'), 'fulfilled-by'] = 'Amazon'\n",
        "\n",
        "# Fulfilled by Merchant\n",
        "data.loc[(data['Status'] == 'Shipping') & (data['Fulfilment'] == 'Merchant'), 'fulfilled-by'] = 'Merchant'\n",
        "\n",
        "\n",
        "print(data[['Order ID', 'Status', 'Courier Status', 'Fulfilment', 'fulfilled-by']])\n"
      ],
      "metadata": {
        "colab": {
          "base_uri": "https://localhost:8080/"
        },
        "id": "1n_a6hat78mW",
        "outputId": "2abad69d-1a9f-4be5-a497-1eae0d47200c"
      },
      "execution_count": 12,
      "outputs": [
        {
          "output_type": "stream",
          "name": "stdout",
          "text": [
            "                   Order ID                        Status fulfilled-by\n",
            "0       405-8078784-5731545                     Cancelled    Cancelled\n",
            "1       171-9198151-1101146  Shipped - Delivered to Buyer     Merchant\n",
            "2       404-0687676-7273146                       Shipped       Amazon\n",
            "3       403-9615377-8133951                     Cancelled    Cancelled\n",
            "4       407-1069790-7240320                       Shipped       Amazon\n",
            "...                     ...                           ...          ...\n",
            "128971  406-6001380-7673107                       Shipped       Amazon\n",
            "128972  402-9551604-7544318                       Shipped       Amazon\n",
            "128973  407-9547469-3152358                       Shipped       Amazon\n",
            "128974  402-6184140-0545956                       Shipped       Amazon\n",
            "128975  408-7436540-8728312                       Shipped       Amazon\n",
            "\n",
            "[128976 rows x 3 columns]\n",
            "                   Order ID                        Status fulfilled-by\n",
            "0       405-8078784-5731545                     Cancelled    Cancelled\n",
            "1       171-9198151-1101146  Shipped - Delivered to Buyer     Merchant\n",
            "2       404-0687676-7273146                       Shipped       Amazon\n",
            "3       403-9615377-8133951                     Cancelled    Cancelled\n",
            "4       407-1069790-7240320                       Shipped       Amazon\n",
            "...                     ...                           ...          ...\n",
            "128971  406-6001380-7673107                       Shipped       Amazon\n",
            "128972  402-9551604-7544318                       Shipped       Amazon\n",
            "128973  407-9547469-3152358                       Shipped       Amazon\n",
            "128974  402-6184140-0545956                       Shipped       Amazon\n",
            "128975  408-7436540-8728312                       Shipped       Amazon\n",
            "\n",
            "[128976 rows x 3 columns]\n",
            "                   Order ID                        Status Courier Status  \\\n",
            "0       405-8078784-5731545                     Cancelled      Cancelled   \n",
            "1       171-9198151-1101146  Shipped - Delivered to Buyer      Delivered   \n",
            "2       404-0687676-7273146                       Shipped        Shipped   \n",
            "3       403-9615377-8133951                     Cancelled      Cancelled   \n",
            "4       407-1069790-7240320                       Shipped        Shipped   \n",
            "...                     ...                           ...            ...   \n",
            "128971  406-6001380-7673107                       Shipped        Shipped   \n",
            "128972  402-9551604-7544318                       Shipped        Shipped   \n",
            "128973  407-9547469-3152358                       Shipped        Shipped   \n",
            "128974  402-6184140-0545956                       Shipped        Shipped   \n",
            "128975  408-7436540-8728312                       Shipped        Shipped   \n",
            "\n",
            "       Fulfilment fulfilled-by  \n",
            "0        Merchant    Cancelled  \n",
            "1        Merchant     Merchant  \n",
            "2          Amazon       Amazon  \n",
            "3        Merchant    Cancelled  \n",
            "4          Amazon       Amazon  \n",
            "...           ...          ...  \n",
            "128971     Amazon       Amazon  \n",
            "128972     Amazon       Amazon  \n",
            "128973     Amazon       Amazon  \n",
            "128974     Amazon       Amazon  \n",
            "128975     Amazon       Amazon  \n",
            "\n",
            "[128976 rows x 5 columns]\n",
            "                   Order ID                        Status Courier Status  \\\n",
            "0       405-8078784-5731545                     Cancelled      Cancelled   \n",
            "1       171-9198151-1101146  Shipped - Delivered to Buyer      Delivered   \n",
            "2       404-0687676-7273146                       Shipped        Shipped   \n",
            "3       403-9615377-8133951                     Cancelled      Cancelled   \n",
            "4       407-1069790-7240320                       Shipped        Shipped   \n",
            "...                     ...                           ...            ...   \n",
            "128971  406-6001380-7673107                       Shipped        Shipped   \n",
            "128972  402-9551604-7544318                       Shipped        Shipped   \n",
            "128973  407-9547469-3152358                       Shipped        Shipped   \n",
            "128974  402-6184140-0545956                       Shipped        Shipped   \n",
            "128975  408-7436540-8728312                       Shipped        Shipped   \n",
            "\n",
            "       Fulfilment fulfilled-by  \n",
            "0        Merchant    Cancelled  \n",
            "1        Merchant     Merchant  \n",
            "2          Amazon       Amazon  \n",
            "3        Merchant    Cancelled  \n",
            "4          Amazon       Amazon  \n",
            "...           ...          ...  \n",
            "128971     Amazon       Amazon  \n",
            "128972     Amazon       Amazon  \n",
            "128973     Amazon       Amazon  \n",
            "128974     Amazon       Amazon  \n",
            "128975     Amazon       Amazon  \n",
            "\n",
            "[128976 rows x 5 columns]\n",
            "                   Order ID                        Status Courier Status  \\\n",
            "0       405-8078784-5731545                     Cancelled      Cancelled   \n",
            "1       171-9198151-1101146  Shipped - Delivered to Buyer      Delivered   \n",
            "2       404-0687676-7273146                       Shipped        Shipped   \n",
            "3       403-9615377-8133951                     Cancelled      Cancelled   \n",
            "4       407-1069790-7240320                       Shipped        Shipped   \n",
            "...                     ...                           ...            ...   \n",
            "128971  406-6001380-7673107                       Shipped        Shipped   \n",
            "128972  402-9551604-7544318                       Shipped        Shipped   \n",
            "128973  407-9547469-3152358                       Shipped        Shipped   \n",
            "128974  402-6184140-0545956                       Shipped        Shipped   \n",
            "128975  408-7436540-8728312                       Shipped        Shipped   \n",
            "\n",
            "       Fulfilment fulfilled-by  \n",
            "0        Merchant    Cancelled  \n",
            "1        Merchant     Merchant  \n",
            "2          Amazon       Amazon  \n",
            "3        Merchant    Cancelled  \n",
            "4          Amazon       Amazon  \n",
            "...           ...          ...  \n",
            "128971     Amazon       Amazon  \n",
            "128972     Amazon       Amazon  \n",
            "128973     Amazon       Amazon  \n",
            "128974     Amazon       Amazon  \n",
            "128975     Amazon       Amazon  \n",
            "\n",
            "[128976 rows x 5 columns]\n",
            "                   Order ID                        Status Courier Status  \\\n",
            "0       405-8078784-5731545                     Cancelled      Cancelled   \n",
            "1       171-9198151-1101146  Shipped - Delivered to Buyer      Delivered   \n",
            "2       404-0687676-7273146                       Shipped        Shipped   \n",
            "3       403-9615377-8133951                     Cancelled      Cancelled   \n",
            "4       407-1069790-7240320                       Shipped        Shipped   \n",
            "...                     ...                           ...            ...   \n",
            "128971  406-6001380-7673107                       Shipped        Shipped   \n",
            "128972  402-9551604-7544318                       Shipped        Shipped   \n",
            "128973  407-9547469-3152358                       Shipped        Shipped   \n",
            "128974  402-6184140-0545956                       Shipped        Shipped   \n",
            "128975  408-7436540-8728312                       Shipped        Shipped   \n",
            "\n",
            "       Fulfilment fulfilled-by  \n",
            "0        Merchant    Cancelled  \n",
            "1        Merchant     Merchant  \n",
            "2          Amazon       Amazon  \n",
            "3        Merchant    Cancelled  \n",
            "4          Amazon       Amazon  \n",
            "...           ...          ...  \n",
            "128971     Amazon       Amazon  \n",
            "128972     Amazon       Amazon  \n",
            "128973     Amazon       Amazon  \n",
            "128974     Amazon       Amazon  \n",
            "128975     Amazon       Amazon  \n",
            "\n",
            "[128976 rows x 5 columns]\n",
            "                   Order ID                        Status Courier Status  \\\n",
            "0       405-8078784-5731545                     Cancelled      Cancelled   \n",
            "1       171-9198151-1101146  Shipped - Delivered to Buyer      Delivered   \n",
            "2       404-0687676-7273146                       Shipped        Shipped   \n",
            "3       403-9615377-8133951                     Cancelled      Cancelled   \n",
            "4       407-1069790-7240320                       Shipped        Shipped   \n",
            "...                     ...                           ...            ...   \n",
            "128971  406-6001380-7673107                       Shipped        Shipped   \n",
            "128972  402-9551604-7544318                       Shipped        Shipped   \n",
            "128973  407-9547469-3152358                       Shipped        Shipped   \n",
            "128974  402-6184140-0545956                       Shipped        Shipped   \n",
            "128975  408-7436540-8728312                       Shipped        Shipped   \n",
            "\n",
            "       Fulfilment fulfilled-by  \n",
            "0        Merchant    Cancelled  \n",
            "1        Merchant     Merchant  \n",
            "2          Amazon       Amazon  \n",
            "3        Merchant    Cancelled  \n",
            "4          Amazon       Amazon  \n",
            "...           ...          ...  \n",
            "128971     Amazon       Amazon  \n",
            "128972     Amazon       Amazon  \n",
            "128973     Amazon       Amazon  \n",
            "128974     Amazon       Amazon  \n",
            "128975     Amazon       Amazon  \n",
            "\n",
            "[128976 rows x 5 columns]\n",
            "                   Order ID                        Status Courier Status  \\\n",
            "0       405-8078784-5731545                     Cancelled      Cancelled   \n",
            "1       171-9198151-1101146  Shipped - Delivered to Buyer      Delivered   \n",
            "2       404-0687676-7273146                       Shipped        Shipped   \n",
            "3       403-9615377-8133951                     Cancelled      Cancelled   \n",
            "4       407-1069790-7240320                       Shipped        Shipped   \n",
            "...                     ...                           ...            ...   \n",
            "128971  406-6001380-7673107                       Shipped        Shipped   \n",
            "128972  402-9551604-7544318                       Shipped        Shipped   \n",
            "128973  407-9547469-3152358                       Shipped        Shipped   \n",
            "128974  402-6184140-0545956                       Shipped        Shipped   \n",
            "128975  408-7436540-8728312                       Shipped        Shipped   \n",
            "\n",
            "       Fulfilment fulfilled-by  \n",
            "0        Merchant    Cancelled  \n",
            "1        Merchant     Merchant  \n",
            "2          Amazon       Amazon  \n",
            "3        Merchant    Cancelled  \n",
            "4          Amazon       Amazon  \n",
            "...           ...          ...  \n",
            "128971     Amazon       Amazon  \n",
            "128972     Amazon       Amazon  \n",
            "128973     Amazon       Amazon  \n",
            "128974     Amazon       Amazon  \n",
            "128975     Amazon       Amazon  \n",
            "\n",
            "[128976 rows x 5 columns]\n",
            "                   Order ID                        Status Courier Status  \\\n",
            "0       405-8078784-5731545                     Cancelled      Cancelled   \n",
            "1       171-9198151-1101146  Shipped - Delivered to Buyer      Delivered   \n",
            "2       404-0687676-7273146                       Shipped        Shipped   \n",
            "3       403-9615377-8133951                     Cancelled      Cancelled   \n",
            "4       407-1069790-7240320                       Shipped        Shipped   \n",
            "...                     ...                           ...            ...   \n",
            "128971  406-6001380-7673107                       Shipped        Shipped   \n",
            "128972  402-9551604-7544318                       Shipped        Shipped   \n",
            "128973  407-9547469-3152358                       Shipped        Shipped   \n",
            "128974  402-6184140-0545956                       Shipped        Shipped   \n",
            "128975  408-7436540-8728312                       Shipped        Shipped   \n",
            "\n",
            "       Fulfilment fulfilled-by  \n",
            "0        Merchant    Cancelled  \n",
            "1        Merchant     Merchant  \n",
            "2          Amazon       Amazon  \n",
            "3        Merchant    Cancelled  \n",
            "4          Amazon       Amazon  \n",
            "...           ...          ...  \n",
            "128971     Amazon       Amazon  \n",
            "128972     Amazon       Amazon  \n",
            "128973     Amazon       Amazon  \n",
            "128974     Amazon       Amazon  \n",
            "128975     Amazon       Amazon  \n",
            "\n",
            "[128976 rows x 5 columns]\n",
            "                   Order ID                        Status Courier Status  \\\n",
            "0       405-8078784-5731545                     Cancelled      Cancelled   \n",
            "1       171-9198151-1101146  Shipped - Delivered to Buyer      Delivered   \n",
            "2       404-0687676-7273146                       Shipped        Shipped   \n",
            "3       403-9615377-8133951                     Cancelled      Cancelled   \n",
            "4       407-1069790-7240320                       Shipped        Shipped   \n",
            "...                     ...                           ...            ...   \n",
            "128971  406-6001380-7673107                       Shipped        Shipped   \n",
            "128972  402-9551604-7544318                       Shipped        Shipped   \n",
            "128973  407-9547469-3152358                       Shipped        Shipped   \n",
            "128974  402-6184140-0545956                       Shipped        Shipped   \n",
            "128975  408-7436540-8728312                       Shipped        Shipped   \n",
            "\n",
            "       Fulfilment fulfilled-by  \n",
            "0        Merchant    Cancelled  \n",
            "1        Merchant     Merchant  \n",
            "2          Amazon       Amazon  \n",
            "3        Merchant    Cancelled  \n",
            "4          Amazon       Amazon  \n",
            "...           ...          ...  \n",
            "128971     Amazon       Amazon  \n",
            "128972     Amazon       Amazon  \n",
            "128973     Amazon       Amazon  \n",
            "128974     Amazon       Amazon  \n",
            "128975     Amazon       Amazon  \n",
            "\n",
            "[128976 rows x 5 columns]\n",
            "                   Order ID                        Status Courier Status  \\\n",
            "0       405-8078784-5731545                     Cancelled      Cancelled   \n",
            "1       171-9198151-1101146  Shipped - Delivered to Buyer      Delivered   \n",
            "2       404-0687676-7273146                       Shipped        Shipped   \n",
            "3       403-9615377-8133951                     Cancelled      Cancelled   \n",
            "4       407-1069790-7240320                       Shipped        Shipped   \n",
            "...                     ...                           ...            ...   \n",
            "128971  406-6001380-7673107                       Shipped        Shipped   \n",
            "128972  402-9551604-7544318                       Shipped        Shipped   \n",
            "128973  407-9547469-3152358                       Shipped        Shipped   \n",
            "128974  402-6184140-0545956                       Shipped        Shipped   \n",
            "128975  408-7436540-8728312                       Shipped        Shipped   \n",
            "\n",
            "       Fulfilment fulfilled-by  \n",
            "0        Merchant    Cancelled  \n",
            "1        Merchant     Merchant  \n",
            "2          Amazon       Amazon  \n",
            "3        Merchant    Cancelled  \n",
            "4          Amazon       Amazon  \n",
            "...           ...          ...  \n",
            "128971     Amazon       Amazon  \n",
            "128972     Amazon       Amazon  \n",
            "128973     Amazon       Amazon  \n",
            "128974     Amazon       Amazon  \n",
            "128975     Amazon       Amazon  \n",
            "\n",
            "[128976 rows x 5 columns]\n",
            "                   Order ID                        Status Courier Status  \\\n",
            "0       405-8078784-5731545                     Cancelled      Cancelled   \n",
            "1       171-9198151-1101146  Shipped - Delivered to Buyer      Delivered   \n",
            "2       404-0687676-7273146                       Shipped        Shipped   \n",
            "3       403-9615377-8133951                     Cancelled      Cancelled   \n",
            "4       407-1069790-7240320                       Shipped        Shipped   \n",
            "...                     ...                           ...            ...   \n",
            "128971  406-6001380-7673107                       Shipped        Shipped   \n",
            "128972  402-9551604-7544318                       Shipped        Shipped   \n",
            "128973  407-9547469-3152358                       Shipped        Shipped   \n",
            "128974  402-6184140-0545956                       Shipped        Shipped   \n",
            "128975  408-7436540-8728312                       Shipped        Shipped   \n",
            "\n",
            "       Fulfilment fulfilled-by  \n",
            "0        Merchant    Cancelled  \n",
            "1        Merchant     Merchant  \n",
            "2          Amazon       Amazon  \n",
            "3        Merchant    Cancelled  \n",
            "4          Amazon       Amazon  \n",
            "...           ...          ...  \n",
            "128971     Amazon       Amazon  \n",
            "128972     Amazon       Amazon  \n",
            "128973     Amazon       Amazon  \n",
            "128974     Amazon       Amazon  \n",
            "128975     Amazon       Amazon  \n",
            "\n",
            "[128976 rows x 5 columns]\n"
          ]
        }
      ]
    },
    {
      "cell_type": "code",
      "source": [
        "print(data.isnull().sum())"
      ],
      "metadata": {
        "colab": {
          "base_uri": "https://localhost:8080/"
        },
        "id": "msjnEj5a8iTg",
        "outputId": "bd9ffa95-1824-45e6-b752-9e8eef1d2389"
      },
      "execution_count": 13,
      "outputs": [
        {
          "output_type": "stream",
          "name": "stdout",
          "text": [
            "index                    0\n",
            "Order ID                 0\n",
            "Date                     0\n",
            "Status                   0\n",
            "Fulfilment               0\n",
            "Sales Channel            0\n",
            "ship-service-level       0\n",
            "Category                 0\n",
            "Size                     0\n",
            "Courier Status           0\n",
            "Qty                      0\n",
            "currency              7800\n",
            "Amount                7800\n",
            "ship-city               35\n",
            "ship-state              35\n",
            "ship-postal-code        35\n",
            "ship-country            35\n",
            "B2B                      0\n",
            "fulfilled-by             0\n",
            "dtype: int64\n"
          ]
        }
      ]
    },
    {
      "cell_type": "code",
      "source": [
        "data['Order ID'] = data['Order ID'].astype(str).str.strip()\n",
        "data['ship-state'] = data['ship-state'].astype(str).str.strip()\n",
        "data['ship-city'] = data['ship-city'].astype(str).str.strip()\n",
        "data['ship-postal-code'] = data['ship-postal-code'].astype(str).str.strip()\n",
        "data['ship-country'] = data['ship-country'].astype(str).str.strip()\n",
        "\n",
        "print(\"Missing values after filling and before replacing :\")"
      ],
      "metadata": {
        "colab": {
          "base_uri": "https://localhost:8080/"
        },
        "id": "vHxd4-ue9FAP",
        "outputId": "d33db085-8209-4306-9a9a-3d8a9d1d7cd3"
      },
      "execution_count": 14,
      "outputs": [
        {
          "output_type": "stream",
          "name": "stdout",
          "text": [
            "Missing values after filling and before replacing :\n"
          ]
        }
      ]
    },
    {
      "cell_type": "code",
      "source": [
        "print(data.isnull().sum())"
      ],
      "metadata": {
        "colab": {
          "base_uri": "https://localhost:8080/"
        },
        "id": "IXSzb7tO9Jt5",
        "outputId": "149fc74a-c815-47d1-a78d-5c4c80b9a058"
      },
      "execution_count": 15,
      "outputs": [
        {
          "output_type": "stream",
          "name": "stdout",
          "text": [
            "index                    0\n",
            "Order ID                 0\n",
            "Date                     0\n",
            "Status                   0\n",
            "Fulfilment               0\n",
            "Sales Channel            0\n",
            "ship-service-level       0\n",
            "Category                 0\n",
            "Size                     0\n",
            "Courier Status           0\n",
            "Qty                      0\n",
            "currency              7800\n",
            "Amount                7800\n",
            "ship-city                0\n",
            "ship-state               0\n",
            "ship-postal-code         0\n",
            "ship-country             0\n",
            "B2B                      0\n",
            "fulfilled-by             0\n",
            "dtype: int64\n"
          ]
        }
      ]
    },
    {
      "cell_type": "code",
      "source": [
        "fill_value=\"INR\"\n",
        "data['currency'].fillna('INR', inplace=True)\n",
        "print(data.isnull().sum())\n"
      ],
      "metadata": {
        "colab": {
          "base_uri": "https://localhost:8080/"
        },
        "id": "fmAzxWqU9Ns-",
        "outputId": "6357bace-1975-453b-87d2-f6a0920eee85"
      },
      "execution_count": 16,
      "outputs": [
        {
          "output_type": "stream",
          "name": "stdout",
          "text": [
            "index                    0\n",
            "Order ID                 0\n",
            "Date                     0\n",
            "Status                   0\n",
            "Fulfilment               0\n",
            "Sales Channel            0\n",
            "ship-service-level       0\n",
            "Category                 0\n",
            "Size                     0\n",
            "Courier Status           0\n",
            "Qty                      0\n",
            "currency                 0\n",
            "Amount                7800\n",
            "ship-city                0\n",
            "ship-state               0\n",
            "ship-postal-code         0\n",
            "ship-country             0\n",
            "B2B                      0\n",
            "fulfilled-by             0\n",
            "dtype: int64\n"
          ]
        },
        {
          "output_type": "stream",
          "name": "stderr",
          "text": [
            "<ipython-input-16-d7926d199725>:2: FutureWarning: A value is trying to be set on a copy of a DataFrame or Series through chained assignment using an inplace method.\n",
            "The behavior will change in pandas 3.0. This inplace method will never work because the intermediate object on which we are setting values always behaves as a copy.\n",
            "\n",
            "For example, when doing 'df[col].method(value, inplace=True)', try using 'df.method({col: value}, inplace=True)' or df[col] = df[col].method(value) instead, to perform the operation inplace on the original object.\n",
            "\n",
            "\n",
            "  data['currency'].fillna('INR', inplace=True)\n"
          ]
        }
      ]
    },
    {
      "cell_type": "code",
      "source": [
        "data['Amount'] = data.groupby('Category')['Amount'].transform(lambda x: x.fillna(x.mean()))\n",
        "print(data.isnull().sum())"
      ],
      "metadata": {
        "colab": {
          "base_uri": "https://localhost:8080/"
        },
        "id": "Kal88tID9Tz7",
        "outputId": "5500d46c-3910-4b88-c338-f635d5ccb14d"
      },
      "execution_count": 17,
      "outputs": [
        {
          "output_type": "stream",
          "name": "stdout",
          "text": [
            "index                 0\n",
            "Order ID              0\n",
            "Date                  0\n",
            "Status                0\n",
            "Fulfilment            0\n",
            "Sales Channel         0\n",
            "ship-service-level    0\n",
            "Category              0\n",
            "Size                  0\n",
            "Courier Status        0\n",
            "Qty                   0\n",
            "currency              0\n",
            "Amount                0\n",
            "ship-city             0\n",
            "ship-state            0\n",
            "ship-postal-code      0\n",
            "ship-country          0\n",
            "B2B                   0\n",
            "fulfilled-by          0\n",
            "dtype: int64\n"
          ]
        }
      ]
    },
    {
      "cell_type": "code",
      "source": [
        "data = pd.DataFrame(data)\n",
        "total_sales = data['Amount'].sum()\n",
        "average_order_value = data['Amount'].mean()\n",
        "\n",
        "print(f\"Total Sales: {total_sales}\")\n",
        "print(f\"Average Order Value: {average_order_value}\")"
      ],
      "metadata": {
        "colab": {
          "base_uri": "https://localhost:8080/"
        },
        "id": "Qmq6yE_v9XQQ",
        "outputId": "4c868f2e-70f7-41c5-93af-431a80067b0e"
      },
      "execution_count": 18,
      "outputs": [
        {
          "output_type": "stream",
          "name": "stdout",
          "text": [
            "Total Sales: 83668606.7739221\n",
            "Average Order Value: 648.714542038225\n"
          ]
        }
      ]
    },
    {
      "cell_type": "code",
      "source": [
        "aggregated_orders = data.groupby('Order ID')['Amount'].sum().reset_index()\n",
        "print(aggregated_orders)"
      ],
      "metadata": {
        "colab": {
          "base_uri": "https://localhost:8080/"
        },
        "id": "hU5k_6WF9gZf",
        "outputId": "32e495ab-a93f-4982-b105-0ce9c5cb14a8"
      },
      "execution_count": 19,
      "outputs": [
        {
          "output_type": "stream",
          "name": "stdout",
          "text": [
            "                   Order ID      Amount\n",
            "0       171-0000547-8192359  301.000000\n",
            "1       171-0000902-4490745  544.000000\n",
            "2       171-0001409-6228339  422.000000\n",
            "3       171-0003082-5110755  563.000000\n",
            "4       171-0003738-2052324  379.000000\n",
            "...                     ...         ...\n",
            "120224  S02-9578181-3610412  833.317534\n",
            "120225  S02-9599483-2736812  833.317534\n",
            "120226  S02-9649067-3246849  455.928116\n",
            "120227  S02-9736323-0094708  455.928116\n",
            "120228  S02-9878098-5959538  833.317534\n",
            "\n",
            "[120229 rows x 2 columns]\n"
          ]
        }
      ]
    },
    {
      "cell_type": "code",
      "source": [
        "category_sales = data.groupby('Category')['Amount'].sum().sort_values(ascending=False).reset_index()\n",
        "\n",
        "plt.figure(figsize=(10, 6))\n",
        "sns.barplot(data=category_sales, x='Category', y='Amount')\n",
        "plt.xticks(rotation=45)\n",
        "plt.title(\"Sales by Category\")\n",
        "plt.show()"
      ],
      "metadata": {
        "colab": {
          "base_uri": "https://localhost:8080/",
          "height": 601
        },
        "id": "xBlWvDBC9nSE",
        "outputId": "52b709c7-a0dc-482c-f8f1-04c67ac62efc"
      },
      "execution_count": 20,
      "outputs": [
        {
          "output_type": "display_data",
          "data": {
            "text/plain": [
              "<Figure size 1000x600 with 1 Axes>"
            ],
            "image/png": "[encoded data removed]"
          },
          "metadata": {}
        }
      ]
    },
    {
      "cell_type": "code",
      "source": [
        "fulfillment_sales = data.groupby('fulfilled-by')['Amount'].sum().reset_index()\n",
        "\n",
        "plt.figure(figsize=(8, 6))\n",
        "sns.barplot(data=fulfillment_sales, x='fulfilled-by', y='Amount')\n",
        "plt.title(\"Sales by Fulfillment Type\")\n",
        "plt.show()\n"
      ],
      "metadata": {
        "colab": {
          "base_uri": "https://localhost:8080/",
          "height": 564
        },
        "id": "eDuj1cU29wz8",
        "outputId": "3662327f-e208-4caf-f479-cf724a5f1cbe"
      },
      "execution_count": 21,
      "outputs": [
        {
          "output_type": "display_data",
          "data": {
            "text/plain": [
              "<Figure size 800x600 with 1 Axes>"
            ],
            "image/png": "[encoded data removed]"
          },
          "metadata": {}
        }
      ]
    },
    {
      "cell_type": "code",
      "source": [
        "city_sales = data.groupby('ship-city')['Amount'].sum().sort_values(ascending=False).head(10).reset_index()\n",
        "\n",
        "plt.figure(figsize=(10, 6))\n",
        "sns.barplot(data=city_sales, x='ship-city', y='Amount')\n",
        "plt.xticks(rotation=45)\n",
        "plt.title(\"Top 10 Cities by Sales\")\n",
        "plt.show()\n"
      ],
      "metadata": {
        "colab": {
          "base_uri": "https://localhost:8080/",
          "height": 621
        },
        "id": "7ORz8DGs911l",
        "outputId": "13494cff-012f-492a-aa8e-184f698cc782"
      },
      "execution_count": 22,
      "outputs": [
        {
          "output_type": "display_data",
          "data": {
            "text/plain": [
              "<Figure size 1000x600 with 1 Axes>"
            ],
            "image/png": "[encoded data removed]"
          },
          "metadata": {}
        }
      ]
    },
    {
      "cell_type": "code",
      "source": [
        "return_data = data[data['Courier Status'].isin(['Lost in Transit', 'Shipment Returned', 'Damaged in Transit'])]\n",
        "total_loss = return_data['Amount'].sum()\n",
        "print(f\"Total Loss due to Returns and Damages: {total_loss}\")\n"
      ],
      "metadata": {
        "colab": {
          "base_uri": "https://localhost:8080/"
        },
        "id": "1OzHzCL593lo",
        "outputId": "327fd5b8-763b-4cfe-930c-d7fef45e6f9a"
      },
      "execution_count": 23,
      "outputs": [
        {
          "output_type": "stream",
          "name": "stdout",
          "text": [
            "Total Loss due to Returns and Damages: 1275753.3033997142\n"
          ]
        }
      ]
    },
    {
      "cell_type": "code",
      "source": [
        "repeat_customers_by_postal_code = data.groupby('ship-postal-code')['Order ID'].nunique().reset_index()\n",
        "repeat_customers_by_postal_code.columns = ['ship-postal-code', 'Order Count']\n",
        "repeat_customers_by_postal_code = repeat_customers_by_postal_code[repeat_customers_by_postal_code['Order Count'] > 1]\n",
        "\n",
        "print(\"Repeat Purchases by Postal Code:\")\n",
        "print(repeat_customers_by_postal_code)"
      ],
      "metadata": {
        "colab": {
          "base_uri": "https://localhost:8080/"
        },
        "id": "fbHVDjRo96s7",
        "outputId": "7ccca557-8701-4d8d-aefc-c9e5ae58e4b8"
      },
      "execution_count": 24,
      "outputs": [
        {
          "output_type": "stream",
          "name": "stdout",
          "text": [
            "Repeat Purchases by Postal Code:\n",
            "     ship-postal-code  Order Count\n",
            "0            110001.0           48\n",
            "1            110002.0           36\n",
            "2            110003.0           62\n",
            "4            110005.0           65\n",
            "5            110006.0           37\n",
            "...               ...          ...\n",
            "9445         855107.0            7\n",
            "9446         855108.0            2\n",
            "9447         855113.0            9\n",
            "9448         855115.0            2\n",
            "9454              nan           28\n",
            "\n",
            "[6747 rows x 2 columns]\n"
          ]
        }
      ]
    },
    {
      "cell_type": "code",
      "source": [
        "average_order_frequency_by_postal_code = data.groupby('ship-postal-code')['Order ID'].nunique().mean()\n",
        "\n",
        "print(f\"Average Order Frequency per Postal Code: {average_order_frequency_by_postal_code:.2f}\")"
      ],
      "metadata": {
        "colab": {
          "base_uri": "https://localhost:8080/"
        },
        "id": "vjaGttRI-BqO",
        "outputId": "8d814ad6-3523-446b-ea03-8d04d5653884"
      },
      "execution_count": 25,
      "outputs": [
        {
          "output_type": "stream",
          "name": "stdout",
          "text": [
            "Average Order Frequency per Postal Code: 12.72\n"
          ]
        }
      ]
    },
    {
      "cell_type": "code",
      "source": [
        "courier_status_counts = data['Courier Status'].value_counts()\n",
        "courier_status_percentages = data['Courier Status'].value_counts(normalize=True) * 100"
      ],
      "metadata": {
        "id": "1CuLmTD--Iw-"
      },
      "execution_count": 26,
      "outputs": []
    },
    {
      "cell_type": "code",
      "source": [
        "courier_status_summary = pd.DataFrame({\n",
        "    'Count': courier_status_counts,\n",
        "    'Percentage': courier_status_percentages\n",
        "})\n",
        "\n",
        "# Display the summary DataFrame\n",
        "print(\"Courier Status Breakdown:\")\n",
        "print(courier_status_summary)"
      ],
      "metadata": {
        "colab": {
          "base_uri": "https://localhost:8080/"
        },
        "id": "5P7-Xvmy-Oqk",
        "outputId": "aaf77550-eb9b-44f8-de47-6dbdfa6550bd"
      },
      "execution_count": 27,
      "outputs": [
        {
          "output_type": "stream",
          "name": "stdout",
          "text": [
            "Courier Status Breakdown:\n",
            "                     Count  Percentage\n",
            "Courier Status                        \n",
            "Shipped              77823   60.339133\n",
            "Delivered            28756   22.295621\n",
            "Cancelled            18334   14.215048\n",
            "Shipment Returned     1954    1.515011\n",
            "Picked up              973    0.754404\n",
            "Awaiting Shipment      658    0.510172\n",
            "Awaiting Pickup        281    0.217870\n",
            "Returning to Seller    145    0.112424\n",
            "Out for delivery        35    0.027137\n",
            "Rejected by Buyer       11    0.008529\n",
            "Lost in Transit          5    0.003877\n",
            "Damaged in Transit       1    0.000775\n"
          ]
        }
      ]
    },
    {
      "cell_type": "code",
      "source": [
        "plt.figure(figsize=(8, 6))\n",
        "courier_status_summary['Percentage'].plot.pie(autopct='%1.1f%%', startangle=90, cmap='Pastel1')\n",
        "plt.ylabel('')  # Hide y-label for aesthetics\n",
        "plt.title(\"Courier Status Breakdown\")\n",
        "plt.show()\n"
      ],
      "metadata": {
        "colab": {
          "base_uri": "https://localhost:8080/",
          "height": 521
        },
        "id": "Yha2abwF-SrW",
        "outputId": "34ca5613-c3b8-4785-dbc0-bdec08f496cf"
      },
      "execution_count": 28,
      "outputs": [
        {
          "output_type": "display_data",
          "data": {
            "text/plain": [
              "<Figure size 800x600 with 1 Axes>"
            ],
            "image/png": "[encoded data removed]"
          },
          "metadata": {}
        }
      ]
    }
  ]
}